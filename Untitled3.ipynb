{
 "cells": [
  {
   "cell_type": "code",
   "execution_count": 5,
   "id": "884b5b47",
   "metadata": {},
   "outputs": [],
   "source": [
    "def make_tortilla (protien,topping):\n",
    "    tortilla = f\"here is a {protien} tortilla with a {topping}\"\n",
    "    print (tortilla)"
   ]
  },
  {
   "cell_type": "code",
   "execution_count": 7,
   "id": "c1887d52",
   "metadata": {},
   "outputs": [
    {
     "name": "stdout",
     "output_type": "stream",
     "text": [
      "here is a Chicken tortilla with a Guac\n"
     ]
    }
   ],
   "source": [
    "make_tortilla(\"Chicken\", \"Guac\")"
   ]
  },
  {
   "cell_type": "code",
   "execution_count": null,
   "id": "538f79db",
   "metadata": {},
   "outputs": [],
   "source": []
  },
  {
   "cell_type": "code",
   "execution_count": null,
   "id": "b92d86d7",
   "metadata": {},
   "outputs": [],
   "source": []
  },
  {
   "cell_type": "code",
   "execution_count": null,
   "id": "4665330f",
   "metadata": {},
   "outputs": [],
   "source": []
  },
  {
   "cell_type": "code",
   "execution_count": null,
   "id": "155da0ae",
   "metadata": {},
   "outputs": [],
   "source": []
  },
  {
   "cell_type": "code",
   "execution_count": null,
   "id": "d5af887c",
   "metadata": {},
   "outputs": [],
   "source": []
  },
  {
   "cell_type": "code",
   "execution_count": null,
   "id": "a2c06f28",
   "metadata": {},
   "outputs": [],
   "source": []
  }
 ],
 "metadata": {
  "kernelspec": {
   "display_name": "Python 3",
   "language": "python",
   "name": "python3"
  },
  "language_info": {
   "codemirror_mode": {
    "name": "ipython",
    "version": 3
   },
   "file_extension": ".py",
   "mimetype": "text/x-python",
   "name": "python",
   "nbconvert_exporter": "python",
   "pygments_lexer": "ipython3",
   "version": "3.8.8"
  }
 },
 "nbformat": 4,
 "nbformat_minor": 5
}
